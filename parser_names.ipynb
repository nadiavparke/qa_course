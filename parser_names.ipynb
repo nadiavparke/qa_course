{
 "cells": [
  {
   "cell_type": "code",
   "execution_count": 10,
   "id": "982b6acc",
   "metadata": {},
   "outputs": [],
   "source": [
    "import requests\n",
    "from bs4 import BeautifulSoup\n",
    "import pandas as pd"
   ]
  },
  {
   "cell_type": "code",
   "execution_count": 11,
   "id": "51ab9b81",
   "metadata": {},
   "outputs": [],
   "source": [
    "URL = \"https://randomus.ru/name?type=101&sex={}&count=15\"\n",
    "FEMALE = 1\n",
    "MALE = 0\n",
    "persons_raw = []\n",
    "persons_columns = ['first_name', 'last_name', 'gender']"
   ]
  },
  {
   "cell_type": "code",
   "execution_count": 12,
   "id": "28c9155c",
   "metadata": {},
   "outputs": [],
   "source": [
    "person_id = pd.Series(range(1,31))\n",
    "role = ('teacher ' * 3 + 'student '* 27).split()\n",
    "address_id = pd.Series(range(1,31)).sample(frac=1).reset_index(drop=True)\n",
    "dict_addit_columns = {'person_id':person_id, 'role':role, 'address_id':address_id}\n",
    "persons_additional_table = pd.DataFrame(dict_addit_columns)\n"
   ]
  },
  {
   "cell_type": "code",
   "execution_count": 13,
   "id": "40aa0d06",
   "metadata": {},
   "outputs": [],
   "source": [
    "def finding_names(URL,gender):\n",
    "    r = requests.get(URL.format(gender))\n",
    "    soup = BeautifulSoup(r.text, \"html5lib\")\n",
    "    names_list = soup.find_all(\"span\", class_=\"has-text-weight-bold is-size-4 is-size-5-mobile is-size-3-widescreen\")\n",
    "    for name in names_list:\n",
    "        if gender == FEMALE:\n",
    "            persons_raw.append((name.text + ' F').split())\n",
    "        else:\n",
    "            persons_raw.append((name.text + ' M').split())"
   ]
  },
  {
   "cell_type": "code",
   "execution_count": 14,
   "id": "91f05fab",
   "metadata": {},
   "outputs": [],
   "source": [
    "finding_names(URL,FEMALE)\n",
    "finding_names(URL,MALE)"
   ]
  },
  {
   "cell_type": "code",
   "execution_count": 15,
   "id": "1148e426",
   "metadata": {},
   "outputs": [],
   "source": [
    "persons_table = pd.DataFrame(persons_raw, columns=persons_columns)\n",
    "persons_table = persons_table.sample(frac=1).reset_index(drop=True)"
   ]
  },
  {
   "cell_type": "code",
   "execution_count": 16,
   "id": "3bf30997",
   "metadata": {},
   "outputs": [],
   "source": [
    "persons_table = pd.concat([persons_table, persons_additional_table], axis=1) \n",
    "persons_table = pd.DataFrame(persons_table, columns=['person_id','first_name','last_name','role','address_id','gender'])"
   ]
  },
  {
   "cell_type": "code",
   "execution_count": 17,
   "id": "ed44a84b",
   "metadata": {},
   "outputs": [],
   "source": [
    "persons_table.to_csv('persons_table', index=False)"
   ]
  }
 ],
 "metadata": {
  "kernelspec": {
   "display_name": "Python 3 (ipykernel)",
   "language": "python",
   "name": "python3"
  },
  "language_info": {
   "codemirror_mode": {
    "name": "ipython",
    "version": 3
   },
   "file_extension": ".py",
   "mimetype": "text/x-python",
   "name": "python",
   "nbconvert_exporter": "python",
   "pygments_lexer": "ipython3",
   "version": "3.8.10"
  }
 },
 "nbformat": 4,
 "nbformat_minor": 5
}
